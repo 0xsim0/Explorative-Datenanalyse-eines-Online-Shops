{
 "cells": [
  {
   "cell_type": "markdown",
   "id": "2a3b7181",
   "metadata": {},
   "source": [
    "# Explorative Datenanalyse eines Online-Shops\n"
   ]
  },
  {
   "cell_type": "code",
   "execution_count": null,
   "id": "4583e6b1",
   "metadata": {},
   "outputs": [],
   "source": [
    "# Bibliotheken importieren\n",
    "import pandas as pd\n",
    "import numpy as np\n",
    "import matplotlib.pyplot as plt\n",
    "import seaborn as sns\n",
    "import os\n",
    "\n"
   ]
  },
  {
   "cell_type": "code",
   "execution_count": null,
   "id": "d9d85fff",
   "metadata": {},
   "outputs": [],
   "source": [
    "# CSV-Datei laden\n",
    "datafile = os.path.join(\"..\", \"data\", \"data.csv\")\n",
    "df = pd.read_csv(datafile, encoding=\"latin1\", parse_dates=[\"InvoiceDate\"])\n",
    "\n",
    "# Neue Spalte 'TotalPrice' berechnen\n",
    "df[\"TotalPrice\"] = df[\"Quantity\"] * df[\"UnitPrice\"]"
   ]
  },
  {
   "cell_type": "code",
   "execution_count": null,
   "id": "ba399f1a",
   "metadata": {},
   "outputs": [],
   "source": [
    "# Überblick über die Struktur und ersten Zeilen der Daten\n",
    "df.info()\n",
    "df.head()\n"
   ]
  },
  {
   "cell_type": "code",
   "execution_count": null,
   "id": "7d3677ce",
   "metadata": {},
   "outputs": [],
   "source": [
    "# Statistische Übersicht der numerischen Spalten\n",
    "df.describe()"
   ]
  },
  {
   "cell_type": "code",
   "execution_count": null,
   "id": "29e3da31",
   "metadata": {},
   "outputs": [],
   "source": [
    "# Gesamtumsatz\n",
    "total_revenue = df[\"TotalPrice\"].sum()\n",
    "print(f\"Gesamtumsatz: {total_revenue:.1f} GBP\")\n",
    "\n",
    "# Durchschnittlicher Warenkorbwert\n",
    "average_order_value = df.groupby(\"InvoiceNo\")[\"TotalPrice\"].sum().mean()\n",
    "print(f\"Durchschnittlicher Warenkorbwert: {average_order_value:.1f} GBP\")"
   ]
  },
  {
   "cell_type": "code",
   "execution_count": null,
   "id": "60c07c0d",
   "metadata": {},
   "outputs": [],
   "source": [
    "# Umsatz pro Monat visualisieren\n",
    "monthly_revenue = df.set_index(\"InvoiceDate\").resample(\"M\")[\"TotalPrice\"].sum()\n",
    "\n",
    "plt.figure(figsize=(10,6))\n",
    "monthly_revenue.plot()\n",
    "plt.title(\"Umsatz pro Monat\")\n",
    "plt.xlabel(\"Datum\")\n",
    "plt.ylabel(\"Umsatz (GBP)\")\n",
    "plt.tight_layout()\n",
    "plt.show()"
   ]
  },
  {
   "cell_type": "markdown",
   "id": "b08028f2",
   "metadata": {},
   "source": [
    "\n",
    "##  Produktanalyse\n",
    "Untersuchung der meistverkauften Produkte"
   ]
  },
  {
   "cell_type": "code",
   "execution_count": null,
   "id": "fc0228ec",
   "metadata": {},
   "outputs": [],
   "source": [
    "\n",
    "\n",
    "# Top 10 Produkte nach Verkaufsmenge\n",
    "top_products = df.groupby(\"Description\")[\"Quantity\"].sum().sort_values(ascending=False).head(10)\n",
    "\n",
    "plt.figure(figsize=(10,6))\n",
    "sns.barplot(x=top_products.values, y=top_products.index)\n",
    "plt.title(\"Top 10 Produkte nach Verkaufsmenge\")\n",
    "plt.xlabel(\"Anzahl verkauft\")\n",
    "plt.ylabel(\"Produkt\")\n",
    "plt.tight_layout()\n",
    "plt.show()\n"
   ]
  },
  {
   "cell_type": "markdown",
   "id": "0409a57d",
   "metadata": {},
   "source": [
    "\n",
    "## Umsatzanalyse\n",
    "Analyse des Gesamtumsatzes und der monatlichen Entwicklung\n"
   ]
  },
  {
   "cell_type": "code",
   "execution_count": null,
   "id": "ea159171",
   "metadata": {},
   "outputs": [],
   "source": [
    "# Umsatz nach Monat\n",
    "df[\"Month\"] = df[\"InvoiceDate\"].dt.to_period(\"M\")\n",
    "monthly_sales = df.groupby(\"Month\")[\"TotalPrice\"].sum()\n",
    "\n",
    "monthly_sales.plot(kind=\"bar\", figsize=(12,5), title=\"Umsatz pro Monat\")\n",
    "plt.ylabel(\"Umsatz in GBP\")\n",
    "plt.tight_layout()\n",
    "plt.show()\n"
   ]
  },
  {
   "cell_type": "markdown",
   "id": "4fef931a",
   "metadata": {},
   "source": [
    "\n",
    "## Kundenanalyse\n",
    "Analyse der Top-Kunden und ihres Kaufverhaltens\n"
   ]
  },
  {
   "cell_type": "code",
   "execution_count": null,
   "id": "7f9b1650",
   "metadata": {},
   "outputs": [],
   "source": [
    "top_customers = df.groupby(\"CustomerID\")[\"TotalPrice\"].sum().sort_values(ascending=False).head(10)\n",
    "top_customers.plot(kind=\"bar\", title=\"Top 10 Kunden nach Umsatz\")\n",
    "plt.xlabel(\"Kunden-ID\")\n",
    "plt.ylabel(\"Umsatz\")\n",
    "plt.tight_layout()\n",
    "plt.show()\n"
   ]
  },
  {
   "cell_type": "markdown",
   "id": "69527d00",
   "metadata": {},
   "source": [
    "## Verbesserung: Datenbereinigung\n",
    "Bevor mit der Analyse begonnen wird, sollten die Daten bereinigt werden (z.B. fehlende Werte, Dubletten, negative Mengen/Preise, Stornierungen)."
   ]
  },
  {
   "cell_type": "code",
   "execution_count": null,
   "id": "f95a8853",
   "metadata": {},
   "outputs": [],
   "source": [
    "# Fehlende Werte prüfen\n",
    "print(df.isnull().sum())\n",
    "\n",
    "# Dubletten entfernen\n",
    "df = df.drop_duplicates()\n",
    "\n",
    "# Negative Mengen und Preise entfernen (Stornierungen)\n",
    "df = df[(df[\"Quantity\"] > 0) & (df[\"UnitPrice\"] > 0)]\n",
    "\n",
    "# Nach der Bereinigung Überblick verschaffen\n",
    "df.info()"
   ]
  },
  {
   "cell_type": "markdown",
   "id": "0ca6eeb5",
   "metadata": {},
   "source": [
    "## Erweiterung: RFM-Analyse (Recency, Frequency, Monetary)\n",
    "Segmentierung der Kunden nach Kaufverhalten."
   ]
  },
  {
   "cell_type": "code",
   "execution_count": null,
   "id": "a8eb18ce",
   "metadata": {},
   "outputs": [],
   "source": [
    "import datetime\n",
    "\n",
    "snapshot_date = df[\"InvoiceDate\"].max() + pd.Timedelta(days=1)\n",
    "rfm = df.groupby(\"CustomerID\").agg({\n",
    "    \"InvoiceDate\": lambda x: (snapshot_date - x.max()).days,\n",
    "    \"InvoiceNo\": \"nunique\",\n",
    "    \"TotalPrice\": \"sum\"\n",
    "})\n",
    "rfm.rename(columns={\"InvoiceDate\": \"Recency\", \"InvoiceNo\": \"Frequency\", \"TotalPrice\": \"Monetary\"}, inplace=True)\n",
    "rfm.head()"
   ]
  }
 ],
 "metadata": {
  "kernelspec": {
   "display_name": "base",
   "language": "python",
   "name": "python3"
  },
  "language_info": {
   "codemirror_mode": {
    "name": "ipython",
    "version": 3
   },
   "file_extension": ".py",
   "mimetype": "text/x-python",
   "name": "python",
   "nbconvert_exporter": "python",
   "pygments_lexer": "ipython3",
   "version": "3.12.7"
  }
 },
 "nbformat": 4,
 "nbformat_minor": 5
}
